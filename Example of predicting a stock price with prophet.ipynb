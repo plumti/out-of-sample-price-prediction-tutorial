{
 "cells": [
  {
   "cell_type": "code",
   "execution_count": 3,
   "metadata": {},
   "outputs": [
    {
     "name": "stdout",
     "output_type": "stream",
     "text": [
      "[*********************100%%**********************]  1 of 1 completed\n"
     ]
    },
    {
     "name": "stderr",
     "output_type": "stream",
     "text": [
      "12:35:49 - cmdstanpy - INFO - Chain [1] start processing\n",
      "12:35:52 - cmdstanpy - INFO - Chain [1] done processing\n"
     ]
    },
    {
     "name": "stdout",
     "output_type": "stream",
     "text": [
      "                          ds        yhat  yhat_lower  yhat_upper\n",
      "0 2023-09-11 12:35:48.896147  185.186783  184.655411  185.667052\n",
      "1 2023-09-11 12:36:48.896147  185.181775  184.687849  185.646449\n"
     ]
    }
   ],
   "source": [
    "import pandas as pd\n",
    "from prophet import Prophet\n",
    "import yfinance as yf\n",
    "from datetime import datetime, timedelta\n",
    "\n",
    "# Define the date and time for which you want to make predictions (current date and time)\n",
    "now = datetime.now()\n",
    "\n",
    "# Calculate the end time for predictions (5 minutes from now)\n",
    "end_time = now + timedelta(minutes=1)\n",
    "\n",
    "# Create a list of timestamps for the next 5 minutes at 1-minute intervals\n",
    "timestamps = pd.date_range(start=now, end=end_time, freq='1T')\n",
    "\n",
    "# Create a DataFrame with the timestamps\n",
    "future = pd.DataFrame({'ds': timestamps})\n",
    "\n",
    "# Download historical data (adjust as needed)\n",
    "data = yf.download('AAPL', period='7d', interval='1m')  # 30 days of 1-minute data for AAPL\n",
    "\n",
    "# Prepare data for Prophet\n",
    "data = data.reset_index()  # Reset the index to access the 'ds' and 'y' columns\n",
    "data = data[['Datetime', 'Close']]  # Keep only 'Datetime' and 'Close' columns\n",
    "data.rename(columns={'Datetime': 'ds', 'Close': 'y'}, inplace=True)  # Rename columns to 'ds' and 'y'\n",
    "data['ds'] = data['ds'].dt.tz_localize(None)\n",
    "\n",
    "# Create and fit the Prophet model\n",
    "model = Prophet()\n",
    "model.fit(data)\n",
    "\n",
    "# Make predictions\n",
    "forecast = model.predict(future)\n",
    "\n",
    "# Access the forecasted values\n",
    "forecasted_values = forecast[['ds', 'yhat', 'yhat_lower', 'yhat_upper']]\n",
    "print(forecasted_values)\n"
   ]
  }
 ],
 "metadata": {
  "kernelspec": {
   "display_name": "Python 3",
   "language": "python",
   "name": "python3"
  },
  "language_info": {
   "codemirror_mode": {
    "name": "ipython",
    "version": 3
   },
   "file_extension": ".py",
   "mimetype": "text/x-python",
   "name": "python",
   "nbconvert_exporter": "python",
   "pygments_lexer": "ipython3",
   "version": "3.11.4"
  },
  "orig_nbformat": 4
 },
 "nbformat": 4,
 "nbformat_minor": 2
}
